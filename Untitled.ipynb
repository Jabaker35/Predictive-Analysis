{
 "cells": [
  {
   "cell_type": "code",
   "execution_count": 2,
   "id": "4634f7f2-145c-43ff-9500-a63ecc49c9b3",
   "metadata": {},
   "outputs": [],
   "source": [
    "import requests\n",
    "import xlsxwriter\n",
    "import math\n",
    "import pandas as pd\n",
    "import numpy as np\n",
    "import yfinance as yf\n",
    "import yahoo_fin.stock_info as si \n",
    "from yahoo_fin import *\n",
    "import datetime as dt\n",
    "from pandas_datareader import data as pdr \n",
    "from datetime import datetime, timedelta"
   ]
  },
  {
   "cell_type": "code",
   "execution_count": null,
   "id": "0d6cdc79-0571-4a8d-80af-d3a3640291bd",
   "metadata": {},
   "outputs": [],
   "source": []
  }
 ],
 "metadata": {
  "kernelspec": {
   "display_name": "Python 3 (ipykernel)",
   "language": "python",
   "name": "python3"
  },
  "language_info": {
   "codemirror_mode": {
    "name": "ipython",
    "version": 3
   },
   "file_extension": ".py",
   "mimetype": "text/x-python",
   "name": "python",
   "nbconvert_exporter": "python",
   "pygments_lexer": "ipython3",
   "version": "3.9.13"
  }
 },
 "nbformat": 4,
 "nbformat_minor": 5
}
