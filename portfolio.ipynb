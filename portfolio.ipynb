{
 "cells": [
  {
   "cell_type": "code",
   "execution_count": 1,
   "id": "cf5aa354-0c49-431e-b09e-36255dfe0b55",
   "metadata": {},
   "outputs": [],
   "source": [
    "import csv\n",
    "import json\n",
    "import math as m\n",
    "import pandas as pd\n",
    "import numpy as np\n",
    "from pandas_datareader import data as pdr\n",
    "import datetime as dt\n",
    "import yfinance as yf\n",
    "import seaborn as sb\n",
    "from datetime import datetime, timedelta\n",
    "from functools import reduce\n",
    "import yahoo_fin.stock_info as si\n",
    "from yahoo_fin import *\n",
    "import jinja2\n",
    "import tradingview_ta\n",
    "from tradingview_ta import TA_Handler, Interval, Exchange\n",
    "from yahoofinancials import YahooFinancials\n",
    "from sklearn.tree import DecisionTreeRegressor\n",
    "from sklearn.linear_model import LinearRegression\n",
    "from sklearn.model_selection import train_test_split\n",
    "from sklearn.preprocessing import MinMaxScaler\n",
    "import matplotlib.pyplot as plt\n",
    "from pypfopt import EfficientFrontier\n",
    "from pypfopt import plotting\n",
    "from pypfopt import risk_models\n",
    "from pypfopt import expected_returns\n",
    "from pypfopt import EfficientCVaR\n",
    "from pypfopt.discrete_allocation import DiscreteAllocation, get_latest_prices\n",
    "plt.style.use('bmh')"
   ]
  },
  {
   "cell_type": "code",
   "execution_count": 2,
   "id": "07b4dde0-81f8-4389-a116-83f25081be02",
   "metadata": {},
   "outputs": [],
   "source": [
    "# created a csv file of ticker symbols for an excel database\n",
    "nasdaq = pd.DataFrame(si.tickers_nasdaq())\n",
    "sym = set( symbol for symbol in nasdaq[0].values.tolist() )\n",
    "\n",
    "# deleting the inactive tickers by suffix\n",
    "my_list = ['C', 'W', 'T', 'R', 'P', 'Q', 'Z', 'I', '.A']\n",
    "\n",
    "# variable for tickers to be saved and disgarded\n",
    "del_set = set()\n",
    "sav_set = set()\n",
    "\n",
    "# loop to id the suffix and disgard\n",
    "for symbol in sym:\n",
    "    if len( symbol ) > 4 and symbol[-1] in my_list:\n",
    "        del_set.add( symbol )\n",
    "    else:\n",
    "        sav_set.add( symbol )\n",
    "        \n",
    "tickers = sorted(sav_set)"
   ]
  },
  {
   "cell_type": "code",
   "execution_count": 5,
   "id": "cdc41d8d-843c-40ae-b392-1de44cb9dcd0",
   "metadata": {},
   "outputs": [
    {
     "ename": "TypeError",
     "evalue": "string indices must be integers",
     "output_type": "error",
     "traceback": [
      "\u001b[1;31m---------------------------------------------------------------------------\u001b[0m",
      "\u001b[1;31mKeyError\u001b[0m                                  Traceback (most recent call last)",
      "\u001b[1;32m~\\anaconda3\\lib\\site-packages\\yahoofinancials\\__init__.py\u001b[0m in \u001b[0;36m_create_dict_ent\u001b[1;34m(self, up_ticker, statement_type, tech_type, report_name, hist_obj)\u001b[0m\n\u001b[0;32m    415\u001b[0m             \u001b[1;32mtry\u001b[0m\u001b[1;33m:\u001b[0m\u001b[1;33m\u001b[0m\u001b[1;33m\u001b[0m\u001b[0m\n\u001b[1;32m--> 416\u001b[1;33m                 \u001b[0mcleaned_re_data\u001b[0m \u001b[1;33m=\u001b[0m \u001b[0mself\u001b[0m\u001b[1;33m.\u001b[0m\u001b[0m_recursive_api_request\u001b[0m\u001b[1;33m(\u001b[0m\u001b[0mhist_obj\u001b[0m\u001b[1;33m,\u001b[0m \u001b[0mup_ticker\u001b[0m\u001b[1;33m)\u001b[0m\u001b[1;33m\u001b[0m\u001b[1;33m\u001b[0m\u001b[0m\n\u001b[0m\u001b[0;32m    417\u001b[0m             \u001b[1;32mexcept\u001b[0m \u001b[0mKeyError\u001b[0m\u001b[1;33m:\u001b[0m\u001b[1;33m\u001b[0m\u001b[1;33m\u001b[0m\u001b[0m\n",
      "\u001b[1;32m~\\anaconda3\\lib\\site-packages\\yahoofinancials\\__init__.py\u001b[0m in \u001b[0;36m_recursive_api_request\u001b[1;34m(self, hist_obj, up_ticker, i)\u001b[0m\n\u001b[0;32m    384\u001b[0m         \u001b[0mapi_url\u001b[0m \u001b[1;33m=\u001b[0m \u001b[0mself\u001b[0m\u001b[1;33m.\u001b[0m\u001b[0m_build_api_url\u001b[0m\u001b[1;33m(\u001b[0m\u001b[0mhist_obj\u001b[0m\u001b[1;33m,\u001b[0m \u001b[0mup_ticker\u001b[0m\u001b[1;33m)\u001b[0m\u001b[1;33m\u001b[0m\u001b[1;33m\u001b[0m\u001b[0m\n\u001b[1;32m--> 385\u001b[1;33m         \u001b[0mre_data\u001b[0m \u001b[1;33m=\u001b[0m \u001b[0mself\u001b[0m\u001b[1;33m.\u001b[0m\u001b[0m_clean_api_data\u001b[0m\u001b[1;33m(\u001b[0m\u001b[0mapi_url\u001b[0m\u001b[1;33m)\u001b[0m\u001b[1;33m\u001b[0m\u001b[1;33m\u001b[0m\u001b[0m\n\u001b[0m\u001b[0;32m    386\u001b[0m         \u001b[0mcleaned_re_data\u001b[0m \u001b[1;33m=\u001b[0m \u001b[0mself\u001b[0m\u001b[1;33m.\u001b[0m\u001b[0m_clean_historical_data\u001b[0m\u001b[1;33m(\u001b[0m\u001b[0mre_data\u001b[0m\u001b[1;33m)\u001b[0m\u001b[1;33m\u001b[0m\u001b[1;33m\u001b[0m\u001b[0m\n",
      "\u001b[1;32m~\\anaconda3\\lib\\site-packages\\yahoofinancials\\__init__.py\u001b[0m in \u001b[0;36m_clean_api_data\u001b[1;34m(self, api_url)\u001b[0m\n\u001b[0;32m    358\u001b[0m             \u001b[0mret_obj\u001b[0m\u001b[1;33m.\u001b[0m\u001b[0mupdate\u001b[0m\u001b[1;33m(\u001b[0m\u001b[1;33m{\u001b[0m\u001b[1;34m'timeZone'\u001b[0m\u001b[1;33m:\u001b[0m \u001b[0mtz_sub_dict\u001b[0m\u001b[1;33m}\u001b[0m\u001b[1;33m)\u001b[0m\u001b[1;33m\u001b[0m\u001b[1;33m\u001b[0m\u001b[0m\n\u001b[1;32m--> 359\u001b[1;33m             \u001b[0mtimestamp_list\u001b[0m \u001b[1;33m=\u001b[0m \u001b[0mresult\u001b[0m\u001b[1;33m[\u001b[0m\u001b[1;34m'timestamp'\u001b[0m\u001b[1;33m]\u001b[0m\u001b[1;33m\u001b[0m\u001b[1;33m\u001b[0m\u001b[0m\n\u001b[0m\u001b[0;32m    360\u001b[0m             \u001b[0mhigh_price_list\u001b[0m \u001b[1;33m=\u001b[0m \u001b[0mresult\u001b[0m\u001b[1;33m[\u001b[0m\u001b[1;34m'indicators'\u001b[0m\u001b[1;33m]\u001b[0m\u001b[1;33m[\u001b[0m\u001b[1;34m'quote'\u001b[0m\u001b[1;33m]\u001b[0m\u001b[1;33m[\u001b[0m\u001b[1;36m0\u001b[0m\u001b[1;33m]\u001b[0m\u001b[1;33m[\u001b[0m\u001b[1;34m'high'\u001b[0m\u001b[1;33m]\u001b[0m\u001b[1;33m\u001b[0m\u001b[1;33m\u001b[0m\u001b[0m\n",
      "\u001b[1;31mKeyError\u001b[0m: 'timestamp'",
      "\nDuring handling of the above exception, another exception occurred:\n",
      "\u001b[1;31mTypeError\u001b[0m                                 Traceback (most recent call last)",
      "\u001b[1;32m~\\AppData\\Local\\Temp\\ipykernel_20808\\3798206527.py\u001b[0m in \u001b[0;36m<module>\u001b[1;34m\u001b[0m\n\u001b[0;32m     10\u001b[0m \u001b[1;33m\u001b[0m\u001b[0m\n\u001b[0;32m     11\u001b[0m \u001b[1;31m# retrieving historical data through Yahoo Financials\u001b[0m\u001b[1;33m\u001b[0m\u001b[1;33m\u001b[0m\u001b[0m\n\u001b[1;32m---> 12\u001b[1;33m \u001b[0mdata\u001b[0m \u001b[1;33m=\u001b[0m \u001b[0mfinancial\u001b[0m\u001b[1;33m.\u001b[0m\u001b[0mget_historical_price_data\u001b[0m\u001b[1;33m(\u001b[0m\u001b[0mbegin\u001b[0m\u001b[1;33m,\u001b[0m \u001b[0mstop\u001b[0m\u001b[1;33m,\u001b[0m \u001b[1;34m'daily'\u001b[0m\u001b[1;33m)\u001b[0m\u001b[1;33m\u001b[0m\u001b[1;33m\u001b[0m\u001b[0m\n\u001b[0m\u001b[0;32m     13\u001b[0m \u001b[1;33m\u001b[0m\u001b[0m\n\u001b[0;32m     14\u001b[0m \u001b[1;31m# creating a database for Adjusted Close on every ticker symbol\u001b[0m\u001b[1;33m\u001b[0m\u001b[1;33m\u001b[0m\u001b[0m\n",
      "\u001b[1;32m~\\anaconda3\\lib\\site-packages\\yahoofinancials\\__init__.py\u001b[0m in \u001b[0;36mget_historical_price_data\u001b[1;34m(self, start_date, end_date, time_interval)\u001b[0m\n\u001b[0;32m    645\u001b[0m         \u001b[0mend\u001b[0m \u001b[1;33m=\u001b[0m \u001b[0mself\u001b[0m\u001b[1;33m.\u001b[0m\u001b[0mformat_date\u001b[0m\u001b[1;33m(\u001b[0m\u001b[0mend_date\u001b[0m\u001b[1;33m)\u001b[0m\u001b[1;33m\u001b[0m\u001b[1;33m\u001b[0m\u001b[0m\n\u001b[0;32m    646\u001b[0m         \u001b[0mhist_obj\u001b[0m \u001b[1;33m=\u001b[0m \u001b[1;33m{\u001b[0m\u001b[1;34m'start'\u001b[0m\u001b[1;33m:\u001b[0m \u001b[0mstart\u001b[0m\u001b[1;33m,\u001b[0m \u001b[1;34m'end'\u001b[0m\u001b[1;33m:\u001b[0m \u001b[0mend\u001b[0m\u001b[1;33m,\u001b[0m \u001b[1;34m'interval'\u001b[0m\u001b[1;33m:\u001b[0m \u001b[0minterval_code\u001b[0m\u001b[1;33m}\u001b[0m\u001b[1;33m\u001b[0m\u001b[1;33m\u001b[0m\u001b[0m\n\u001b[1;32m--> 647\u001b[1;33m         \u001b[1;32mreturn\u001b[0m \u001b[0mself\u001b[0m\u001b[1;33m.\u001b[0m\u001b[0mget_stock_data\u001b[0m\u001b[1;33m(\u001b[0m\u001b[1;34m'history'\u001b[0m\u001b[1;33m,\u001b[0m \u001b[0mhist_obj\u001b[0m\u001b[1;33m=\u001b[0m\u001b[0mhist_obj\u001b[0m\u001b[1;33m)\u001b[0m\u001b[1;33m\u001b[0m\u001b[1;33m\u001b[0m\u001b[0m\n\u001b[0m\u001b[0;32m    648\u001b[0m \u001b[1;33m\u001b[0m\u001b[0m\n\u001b[0;32m    649\u001b[0m     \u001b[1;31m# Private Method for Functions needing stock_price_data\u001b[0m\u001b[1;33m\u001b[0m\u001b[1;33m\u001b[0m\u001b[0m\n",
      "\u001b[1;32m~\\anaconda3\\lib\\site-packages\\yahoofinancials\\__init__.py\u001b[0m in \u001b[0;36mget_stock_data\u001b[1;34m(self, statement_type, tech_type, report_name, hist_obj)\u001b[0m\n\u001b[0;32m    479\u001b[0m             \u001b[1;32mfor\u001b[0m \u001b[0mtick\u001b[0m \u001b[1;32min\u001b[0m \u001b[0mself\u001b[0m\u001b[1;33m.\u001b[0m\u001b[0mticker\u001b[0m\u001b[1;33m:\u001b[0m\u001b[1;33m\u001b[0m\u001b[1;33m\u001b[0m\u001b[0m\n\u001b[0;32m    480\u001b[0m                 \u001b[1;32mtry\u001b[0m\u001b[1;33m:\u001b[0m\u001b[1;33m\u001b[0m\u001b[1;33m\u001b[0m\u001b[0m\n\u001b[1;32m--> 481\u001b[1;33m                     \u001b[0mdict_ent\u001b[0m \u001b[1;33m=\u001b[0m \u001b[0mself\u001b[0m\u001b[1;33m.\u001b[0m\u001b[0m_create_dict_ent\u001b[0m\u001b[1;33m(\u001b[0m\u001b[0mtick\u001b[0m\u001b[1;33m,\u001b[0m \u001b[0mstatement_type\u001b[0m\u001b[1;33m,\u001b[0m \u001b[0mtech_type\u001b[0m\u001b[1;33m,\u001b[0m \u001b[0mreport_name\u001b[0m\u001b[1;33m,\u001b[0m \u001b[0mhist_obj\u001b[0m\u001b[1;33m)\u001b[0m\u001b[1;33m\u001b[0m\u001b[1;33m\u001b[0m\u001b[0m\n\u001b[0m\u001b[0;32m    482\u001b[0m                     \u001b[0mdata\u001b[0m\u001b[1;33m.\u001b[0m\u001b[0mupdate\u001b[0m\u001b[1;33m(\u001b[0m\u001b[0mdict_ent\u001b[0m\u001b[1;33m)\u001b[0m\u001b[1;33m\u001b[0m\u001b[1;33m\u001b[0m\u001b[0m\n\u001b[0;32m    483\u001b[0m                 \u001b[1;32mexcept\u001b[0m \u001b[0mManagedException\u001b[0m\u001b[1;33m:\u001b[0m\u001b[1;33m\u001b[0m\u001b[1;33m\u001b[0m\u001b[0m\n",
      "\u001b[1;32m~\\anaconda3\\lib\\site-packages\\yahoofinancials\\__init__.py\u001b[0m in \u001b[0;36m_create_dict_ent\u001b[1;34m(self, up_ticker, statement_type, tech_type, report_name, hist_obj)\u001b[0m\n\u001b[0;32m    417\u001b[0m             \u001b[1;32mexcept\u001b[0m \u001b[0mKeyError\u001b[0m\u001b[1;33m:\u001b[0m\u001b[1;33m\u001b[0m\u001b[1;33m\u001b[0m\u001b[0m\n\u001b[0;32m    418\u001b[0m                 \u001b[1;32mtry\u001b[0m\u001b[1;33m:\u001b[0m\u001b[1;33m\u001b[0m\u001b[1;33m\u001b[0m\u001b[0m\n\u001b[1;32m--> 419\u001b[1;33m                     \u001b[0mre_data\u001b[0m \u001b[1;33m=\u001b[0m \u001b[0mself\u001b[0m\u001b[1;33m.\u001b[0m\u001b[0m_scrape_data\u001b[0m\u001b[1;33m(\u001b[0m\u001b[0mYAHOO_URL\u001b[0m\u001b[1;33m,\u001b[0m \u001b[0mtech_type\u001b[0m\u001b[1;33m,\u001b[0m \u001b[0mstatement_type\u001b[0m\u001b[1;33m)\u001b[0m\u001b[1;33m\u001b[0m\u001b[1;33m\u001b[0m\u001b[0m\n\u001b[0m\u001b[0;32m    420\u001b[0m                     \u001b[0mcleaned_re_data\u001b[0m \u001b[1;33m=\u001b[0m \u001b[0mself\u001b[0m\u001b[1;33m.\u001b[0m\u001b[0m_clean_historical_data\u001b[0m\u001b[1;33m(\u001b[0m\u001b[0mre_data\u001b[0m\u001b[1;33m)\u001b[0m\u001b[1;33m\u001b[0m\u001b[1;33m\u001b[0m\u001b[0m\n\u001b[0;32m    421\u001b[0m                 \u001b[1;32mexcept\u001b[0m \u001b[0mKeyError\u001b[0m\u001b[1;33m:\u001b[0m\u001b[1;33m\u001b[0m\u001b[1;33m\u001b[0m\u001b[0m\n",
      "\u001b[1;32m~\\anaconda3\\lib\\site-packages\\yahoofinancials\\__init__.py\u001b[0m in \u001b[0;36m_scrape_data\u001b[1;34m(self, url, tech_type, statement_type)\u001b[0m\n\u001b[0;32m    169\u001b[0m             \u001b[0mstores\u001b[0m \u001b[1;33m=\u001b[0m \u001b[0mdata\u001b[0m\u001b[1;33m[\u001b[0m\u001b[1;34m\"context\"\u001b[0m\u001b[1;33m]\u001b[0m\u001b[1;33m[\u001b[0m\u001b[1;34m\"dispatcher\"\u001b[0m\u001b[1;33m]\u001b[0m\u001b[1;33m[\u001b[0m\u001b[1;34m\"stores\"\u001b[0m\u001b[1;33m]\u001b[0m\u001b[1;33m[\u001b[0m\u001b[1;34m\"QuoteSummaryStore\"\u001b[0m\u001b[1;33m]\u001b[0m\u001b[1;33m[\u001b[0m\u001b[0mtech_type\u001b[0m\u001b[1;33m]\u001b[0m\u001b[1;33m\u001b[0m\u001b[1;33m\u001b[0m\u001b[0m\n\u001b[0;32m    170\u001b[0m         \u001b[1;32melse\u001b[0m\u001b[1;33m:\u001b[0m\u001b[1;33m\u001b[0m\u001b[1;33m\u001b[0m\u001b[0m\n\u001b[1;32m--> 171\u001b[1;33m             \u001b[0mstores\u001b[0m \u001b[1;33m=\u001b[0m \u001b[0mdata\u001b[0m\u001b[1;33m[\u001b[0m\u001b[1;34m\"context\"\u001b[0m\u001b[1;33m]\u001b[0m\u001b[1;33m[\u001b[0m\u001b[1;34m\"dispatcher\"\u001b[0m\u001b[1;33m]\u001b[0m\u001b[1;33m[\u001b[0m\u001b[1;34m\"stores\"\u001b[0m\u001b[1;33m]\u001b[0m\u001b[1;33m[\u001b[0m\u001b[1;34m\"HistoricalPriceStore\"\u001b[0m\u001b[1;33m]\u001b[0m\u001b[1;33m\u001b[0m\u001b[1;33m\u001b[0m\u001b[0m\n\u001b[0m\u001b[0;32m    172\u001b[0m         \u001b[1;32mreturn\u001b[0m \u001b[0mstores\u001b[0m\u001b[1;33m\u001b[0m\u001b[1;33m\u001b[0m\u001b[0m\n\u001b[0;32m    173\u001b[0m \u001b[1;33m\u001b[0m\u001b[0m\n",
      "\u001b[1;31mTypeError\u001b[0m: string indices must be integers"
     ]
    }
   ],
   "source": [
    "# Use this code if you need to update it on VSCode\n",
    "yf.pdr_override\n",
    "\n",
    "# Calculate the date range\n",
    "end = dt.datetime.today().strftime('%Y-%m-%d')\n",
    "begin = (dt.datetime.today() - dt.timedelta(days=30)).strftime('%Y-%m-%d')\n",
    "\n",
    "# Create an empty DataFrame to store the stock prices\n",
    "prices = pd.DataFrame()\n",
    "\n",
    "# Iterate through each stock ticker\n",
    "for stock in tickers:\n",
    "    try:\n",
    "        # Download the Adj Close data for each stock\n",
    "        stock_data = yf.download(stock, start=begin, end=end, progress=False)\n",
    "\n",
    "        # Check if the DataFrame is empty (no data downloaded)\n",
    "        if not stock_data.empty:\n",
    "            # Rename the 'Adj Close' column to the stock ticker\n",
    "            stock_data.rename(columns={'Adj Close': stock}, inplace=True)\n",
    "\n",
    "            # Concatenate the stock data to the prices DataFrame\n",
    "            if prices.empty:\n",
    "                prices = stock_data[[stock]]\n",
    "            else:\n",
    "                prices = pd.concat([prices, stock_data[[stock]]], axis=1)\n",
    "        else:\n",
    "            print(f\"No data available for {stock}.\")\n",
    "    except Exception as e:\n",
    "        print(f\"An error occurred while fetching {stock}: {str(e)}\")\n",
    "\n",
    "# Display the updated prices DataFrame\n",
    "prices.dropna()\n",
    "prices"
   ]
  },
  {
   "cell_type": "code",
   "execution_count": null,
   "id": "9d5a01fa-3add-4fc0-9ad0-b764adfb9f3b",
   "metadata": {},
   "outputs": [],
   "source": []
  }
 ],
 "metadata": {
  "kernelspec": {
   "display_name": "Python 3 (ipykernel)",
   "language": "python",
   "name": "python3"
  },
  "language_info": {
   "codemirror_mode": {
    "name": "ipython",
    "version": 3
   },
   "file_extension": ".py",
   "mimetype": "text/x-python",
   "name": "python",
   "nbconvert_exporter": "python",
   "pygments_lexer": "ipython3",
   "version": "3.11.5"
  }
 },
 "nbformat": 4,
 "nbformat_minor": 5
}
