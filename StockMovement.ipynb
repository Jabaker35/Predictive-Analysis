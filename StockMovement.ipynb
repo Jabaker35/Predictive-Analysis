{
 "cells": [
  {
   "cell_type": "code",
   "execution_count": 1,
   "id": "61565f69-1b13-45c6-8ac7-6726ea7f1033",
   "metadata": {},
   "outputs": [],
   "source": [
    "import yfinance as yf\n",
    "from pandas_datareader import data as pdr\n",
    "import pandas as pd\n",
    "import yahoo_fin.stock_info as si \n",
    "from yahoo_fin import *"
   ]
  },
  {
   "cell_type": "markdown",
   "id": "19b65d99-5839-4641-ac32-65c24a2c7ab8",
   "metadata": {},
   "source": [
    "W – means there are outstanding warrants.\n",
    "R – means there is some kind of “rights” issue.\n",
    "P – means “First Preferred Issue”. Preferred stocks are separate entity.\n",
    "Q - means bankruptcy."
   ]
  },
  {
   "cell_type": "code",
   "execution_count": 2,
   "id": "de025f34-ba0a-4996-a92f-3dc3844f0228",
   "metadata": {},
   "outputs": [],
   "source": [
    "# deleting stock symbols/tickers within the nasdaq listing\n",
    "nasdaq = pd.DataFrame(si.tickers_nasdaq())\n",
    "sym = set( symbol for symbol in nasdaq[0].values.tolist() )\n",
    "\n",
    "# deleting the inactive tickers by suffix\n",
    "my_list = ['W', 'R', 'P', 'Q']\n",
    "\n",
    "# variable for tickers to be saved and disgarded\n",
    "del_set = set()\n",
    "sav_set = set()\n",
    "\n",
    "# loop to id the suffix and disgard\n",
    "for symbol in sym:\n",
    "    if len(symbol) > 4 and symbol[-1] in my_list:\n",
    "        del_set.add(symbol)\n",
    "    else:\n",
    "        sav_set.add(symbol)\n",
    "\n",
    "tickers = sorted(sav_set)"
   ]
  },
  {
   "cell_type": "code",
   "execution_count": 3,
   "id": "1e4fabba-cb69-4500-ba50-f972ac7a9eed",
   "metadata": {},
   "outputs": [
    {
     "ename": "SyntaxError",
     "evalue": "positional argument follows keyword argument (2290622105.py, line 19)",
     "output_type": "error",
     "traceback": [
      "\u001b[1;36m  File \u001b[1;32m\"C:\\Users\\Judie Baker\\AppData\\Local\\Temp\\ipykernel_13300\\2290622105.py\"\u001b[1;36m, line \u001b[1;32m19\u001b[0m\n\u001b[1;33m    Open = thestock(period = \"5d\", 0, \"Open\")\u001b[0m\n\u001b[1;37m                                            ^\u001b[0m\n\u001b[1;31mSyntaxError\u001b[0m\u001b[1;31m:\u001b[0m positional argument follows keyword argument\n"
     ]
    }
   ],
   "source": [
    "# populating a list for the latest movement list for each stock symbol\n",
    "movementlist = []\n",
    "for stock in tickers:\n",
    "    # get history\n",
    "    thestock = yf.download(tickers = stock, period = \"5d\", interval = \"1d\", ignore_tz = True, prepost = False)\n",
    "    # hist = thestock.history(period=\"5d\")\n",
    "    # print(stock)\n",
    "    low = float(10000)\n",
    "    high = float(0)\n",
    "    \n",
    "    # print(thestock.info)\n",
    "for day in thestock.itertuples(index=True, name='Pandas'):\n",
    "    if day.Low < low:\n",
    "        low = day.Low\n",
    "    if high < day.High:\n",
    "        high = day.High\n",
    "\n",
    "    deltapercent = 100 * (high - low)/low\n",
    "    Open = thestock(period = \"5d\", 0, \"Open\")\n",
    "      # some error handling: \n",
    "    if len(hist >= 5):\n",
    "        Close = thestock(period = \"5d\", 4, \"Close\")\n",
    "    else:\n",
    "        Close = Open\n",
    "    if(Open == 0):\n",
    "        deltaprice = 0\n",
    "    else:\n",
    "        deltaprice = 100 * (Close - Open) / Open\n",
    "        print(stock + \" \" + str(deltapercent) + \" \" + str(deltaprice))\n",
    "    \n",
    "pair = [stock, deltapercent, deltaprice]\n",
    "movementlist.append(pair)"
   ]
  },
  {
   "cell_type": "code",
   "execution_count": null,
   "id": "0859a6dc-d9a4-4e71-9afa-bade03015e17",
   "metadata": {},
   "outputs": [],
   "source": [
    "for entry in movementlist:\n",
    "    if entry[1]>float(100):\n",
    "    print(entry)"
   ]
  },
  {
   "cell_type": "code",
   "execution_count": null,
   "id": "4d819633-68fb-4177-a927-8b02500355cf",
   "metadata": {},
   "outputs": [],
   "source": [
    "# High risers:\n",
    "def lookup_stockinfo(thestock):\n",
    "    try:\n",
    "        return thestock.info\n",
    "    except IndexError:\n",
    "        return 0\n",
    "        cutoff=float(80)\n",
    "        \n",
    "for entry in movementlist:\n",
    "    if entry[2]>cutoff:\n",
    "    print(\"\\n\"+ str(entry))\n",
    "        thestock = yf.Ticker(str(entry[0]))\n",
    "    if entry[0]=='HJLIW':\n",
    "    print(\"no info\")\n",
    "    else:\n",
    "        a = lookup_stockinfo(thestock)\n",
    "    if a == 0:\n",
    "        print(\"no info\")\n",
    "    else:\n",
    "        if a is None:\n",
    "            print(\"no info\")\n",
    "    else:\n",
    "        if a == \"\":\n",
    "            print(\"no\")\n",
    "        else:\n",
    "            print(a)\n",
    "            print('Up '+ str(entry[2]) + \"%\")\n",
    "            print(str(a['sector']))\n",
    "            print(str(a['longBusinessSummary']))\n",
    "            print(\"year high \"+ str(a['fiftyTwoWeekHigh']))"
   ]
  },
  {
   "cell_type": "code",
   "execution_count": null,
   "id": "434569bb-e4d2-45ab-8a4a-f170f5cfdd65",
   "metadata": {},
   "outputs": [],
   "source": [
    "movement = pd.DataFrame(entry)\n",
    "movement"
   ]
  },
  {
   "cell_type": "code",
   "execution_count": null,
   "id": "c1f27e61-de16-4d4e-9046-f1aeac45fa69",
   "metadata": {},
   "outputs": [],
   "source": [
    "# creating a csv file of the DataFrame\n",
    "movement.to_csv('latest_movement.csv', header=True, index=True, encoding='utf-8')"
   ]
  }
 ],
 "metadata": {
  "kernelspec": {
   "display_name": "Python 3 (ipykernel)",
   "language": "python",
   "name": "python3"
  },
  "language_info": {
   "codemirror_mode": {
    "name": "ipython",
    "version": 3
   },
   "file_extension": ".py",
   "mimetype": "text/x-python",
   "name": "python",
   "nbconvert_exporter": "python",
   "pygments_lexer": "ipython3",
   "version": "3.9.13"
  }
 },
 "nbformat": 4,
 "nbformat_minor": 5
}
