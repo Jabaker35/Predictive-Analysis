{
 "cells": [
  {
   "cell_type": "code",
   "execution_count": 10,
   "id": "61565f69-1b13-45c6-8ac7-6726ea7f1033",
   "metadata": {},
   "outputs": [],
   "source": [
    "import yfinance as yf\n",
    "import pandas as pd\n",
    "import polars as pl\n",
    "import yahoo_fin.stock_info as si\n",
    "import datetime as dt\n",
    "from functools import reduce\n",
    "from datetime import datetime, timedelta\n",
    "from yahoo_fin import *\n",
    "from pandas_datareader import data as pdr"
   ]
  },
  {
   "cell_type": "markdown",
   "id": "19b65d99-5839-4641-ac32-65c24a2c7ab8",
   "metadata": {},
   "source": [
    "W – means there are outstanding warrants.\n",
    "R – means there is some kind of “rights” issue.\n",
    "P – means “First Preferred Issue”. Preferred stocks are separate entity.\n",
    "Q - means bankruptcy."
   ]
  },
  {
   "cell_type": "code",
   "execution_count": 11,
   "id": "de025f34-ba0a-4996-a92f-3dc3844f0228",
   "metadata": {},
   "outputs": [],
   "source": [
    "# deleting stock symbols/tickers within the nasdaq listing\n",
    "nasdaq = pd.DataFrame(si.tickers_nasdaq())\n",
    "sym = set( symbol for symbol in nasdaq[0].values.tolist() )\n",
    "\n",
    "# deleting the inactive tickers by suffix\n",
    "my_list = ['C', 'W', 'T', 'R', 'P', 'Q', 'Z', 'I', '.A']\n",
    "\n",
    "# variable for tickers to be saved and disgaurded\n",
    "del_set = set()\n",
    "sav_set = set()\n",
    "\n",
    "# loop to id the suffix and disgaurd\n",
    "for symbol in sym:\n",
    "    if len(symbol) > 4 and symbol[-1] in my_list:\n",
    "        del_set.add(symbol)\n",
    "    else:\n",
    "        sav_set.add(symbol)\n",
    "\n",
    "tickers = sorted(sav_set) # [:10]"
   ]
  },
  {
   "cell_type": "code",
   "execution_count": 13,
   "id": "1e4fabba-cb69-4500-ba50-f972ac7a9eed",
   "metadata": {},
   "outputs": [
    {
     "name": "stderr",
     "output_type": "stream",
     "text": [
      "\n",
      "1 Failed download:\n",
      "['THAR']: Exception('%ticker%: No price data found, symbol may be delisted (period=5d)')\n"
     ]
    },
    {
     "ename": "IndexError",
     "evalue": "single positional indexer is out-of-bounds",
     "output_type": "error",
     "traceback": [
      "\u001b[0;31m---------------------------------------------------------------------------\u001b[0m",
      "\u001b[0;31mIndexError\u001b[0m                                Traceback (most recent call last)",
      "\u001b[1;32m/Jabaker35/Predictive-Analysis/StockMovement.ipynb Cell 4\u001b[0m line \u001b[0;36m2\n\u001b[1;32m     <a href='vscode-notebook-cell://github/Jabaker35/Predictive-Analysis/StockMovement.ipynb#W3sdnNjb2RlLXZmcw%3D%3D?line=23'>24</a>\u001b[0m     Open \u001b[39m=\u001b[39m thestock\u001b[39m.\u001b[39miloc[\u001b[39m0\u001b[39m][\u001b[39m\"\u001b[39m\u001b[39mOpen\u001b[39m\u001b[39m\"\u001b[39m]\n\u001b[1;32m     <a href='vscode-notebook-cell://github/Jabaker35/Predictive-Analysis/StockMovement.ipynb#W3sdnNjb2RlLXZmcw%3D%3D?line=24'>25</a>\u001b[0m \u001b[39melse\u001b[39;00m:\n\u001b[0;32m---> <a href='vscode-notebook-cell://github/Jabaker35/Predictive-Analysis/StockMovement.ipynb#W3sdnNjb2RlLXZmcw%3D%3D?line=25'>26</a>\u001b[0m     Close \u001b[39m=\u001b[39m Open \u001b[39m=\u001b[39m thestock\u001b[39m.\u001b[39;49miloc[\u001b[39m0\u001b[39;49m][\u001b[39m\"\u001b[39m\u001b[39mOpen\u001b[39m\u001b[39m\"\u001b[39m]\n\u001b[1;32m     <a href='vscode-notebook-cell://github/Jabaker35/Predictive-Analysis/StockMovement.ipynb#W3sdnNjb2RlLXZmcw%3D%3D?line=27'>28</a>\u001b[0m \u001b[39m# Calculate the percentage change in price from opening to closing\u001b[39;00m\n\u001b[1;32m     <a href='vscode-notebook-cell://github/Jabaker35/Predictive-Analysis/StockMovement.ipynb#W3sdnNjb2RlLXZmcw%3D%3D?line=28'>29</a>\u001b[0m \u001b[39m# If the opening price is zero (to avoid division by zero), set the price change to zero\u001b[39;00m\n\u001b[1;32m     <a href='vscode-notebook-cell://github/Jabaker35/Predictive-Analysis/StockMovement.ipynb#W3sdnNjb2RlLXZmcw%3D%3D?line=29'>30</a>\u001b[0m deltaprice \u001b[39m=\u001b[39m \u001b[39m100\u001b[39m \u001b[39m*\u001b[39m (Close \u001b[39m-\u001b[39m Open) \u001b[39m/\u001b[39m Open \u001b[39mif\u001b[39;00m Open \u001b[39m!=\u001b[39m \u001b[39m0\u001b[39m \u001b[39melse\u001b[39;00m \u001b[39m0\u001b[39m\n",
      "File \u001b[0;32m/Library/Frameworks/Python.framework/Versions/3.11/lib/python3.11/site-packages/pandas/core/indexing.py:1153\u001b[0m, in \u001b[0;36m_LocationIndexer.__getitem__\u001b[0;34m(self, key)\u001b[0m\n\u001b[1;32m   1150\u001b[0m axis \u001b[39m=\u001b[39m \u001b[39mself\u001b[39m\u001b[39m.\u001b[39maxis \u001b[39mor\u001b[39;00m \u001b[39m0\u001b[39m\n\u001b[1;32m   1152\u001b[0m maybe_callable \u001b[39m=\u001b[39m com\u001b[39m.\u001b[39mapply_if_callable(key, \u001b[39mself\u001b[39m\u001b[39m.\u001b[39mobj)\n\u001b[0;32m-> 1153\u001b[0m \u001b[39mreturn\u001b[39;00m \u001b[39mself\u001b[39;49m\u001b[39m.\u001b[39;49m_getitem_axis(maybe_callable, axis\u001b[39m=\u001b[39;49maxis)\n",
      "File \u001b[0;32m/Library/Frameworks/Python.framework/Versions/3.11/lib/python3.11/site-packages/pandas/core/indexing.py:1714\u001b[0m, in \u001b[0;36m_iLocIndexer._getitem_axis\u001b[0;34m(self, key, axis)\u001b[0m\n\u001b[1;32m   1711\u001b[0m     \u001b[39mraise\u001b[39;00m \u001b[39mTypeError\u001b[39;00m(\u001b[39m\"\u001b[39m\u001b[39mCannot index by location index with a non-integer key\u001b[39m\u001b[39m\"\u001b[39m)\n\u001b[1;32m   1713\u001b[0m \u001b[39m# validate the location\u001b[39;00m\n\u001b[0;32m-> 1714\u001b[0m \u001b[39mself\u001b[39;49m\u001b[39m.\u001b[39;49m_validate_integer(key, axis)\n\u001b[1;32m   1716\u001b[0m \u001b[39mreturn\u001b[39;00m \u001b[39mself\u001b[39m\u001b[39m.\u001b[39mobj\u001b[39m.\u001b[39m_ixs(key, axis\u001b[39m=\u001b[39maxis)\n",
      "File \u001b[0;32m/Library/Frameworks/Python.framework/Versions/3.11/lib/python3.11/site-packages/pandas/core/indexing.py:1647\u001b[0m, in \u001b[0;36m_iLocIndexer._validate_integer\u001b[0;34m(self, key, axis)\u001b[0m\n\u001b[1;32m   1645\u001b[0m len_axis \u001b[39m=\u001b[39m \u001b[39mlen\u001b[39m(\u001b[39mself\u001b[39m\u001b[39m.\u001b[39mobj\u001b[39m.\u001b[39m_get_axis(axis))\n\u001b[1;32m   1646\u001b[0m \u001b[39mif\u001b[39;00m key \u001b[39m>\u001b[39m\u001b[39m=\u001b[39m len_axis \u001b[39mor\u001b[39;00m key \u001b[39m<\u001b[39m \u001b[39m-\u001b[39mlen_axis:\n\u001b[0;32m-> 1647\u001b[0m     \u001b[39mraise\u001b[39;00m \u001b[39mIndexError\u001b[39;00m(\u001b[39m\"\u001b[39m\u001b[39msingle positional indexer is out-of-bounds\u001b[39m\u001b[39m\"\u001b[39m)\n",
      "\u001b[0;31mIndexError\u001b[0m: single positional indexer is out-of-bounds"
     ]
    }
   ],
   "source": [
    "# Initialize an empty list to store stock movement data\n",
    "movementlist = []\n",
    "\n",
    "# Loop through each ticker symbol\n",
    "for stock in tickers:\n",
    "    # Download the stock's 5-day price history using yfinance\n",
    "    thestock = yf.download(tickers=stock, period=\"5d\", interval=\"1d\", ignore_tz=True, prepost=False, progress=False)\n",
    "\n",
    "    # Find the minimum low price and the maximum high price over the 5-day period\n",
    "    low = thestock['Low'].min()\n",
    "    high = thestock['High'].max()\n",
    "\n",
    "    # Calculate the percentage change between the high and low prices\n",
    "    if low != 0:\n",
    "        deltapercent = 100 * (high - low) / low\n",
    "    else:\n",
    "        deltapercent = 0\n",
    "\n",
    "    # Fetch the opening price of the stock\n",
    "    # If there are at least 5 days of history, also fetch the closing price of the stock\n",
    "    # Otherwise, use the opening price as the closing price\n",
    "    if len(thestock) >= 5:\n",
    "        Close = thestock.iloc[4][\"Close\"]\n",
    "        Open = thestock.iloc[0][\"Open\"]\n",
    "    else:\n",
    "        Close = Open = thestock.iloc[0][\"Open\"]\n",
    "\n",
    "    # Calculate the percentage change in price from opening to closing\n",
    "    # If the opening price is zero (to avoid division by zero), set the price change to zero\n",
    "    deltaprice = 100 * (Close - Open) / Open if Open != 0 else 0\n",
    "\n",
    "    # Append the stock symbol, high price, low price, percentage change, and price change to the movement list\n",
    "    pair = [stock, high, low, deltapercent, deltaprice]\n",
    "    movementlist.append(pair)"
   ]
  },
  {
   "cell_type": "code",
   "execution_count": null,
   "id": "0859a6dc-d9a4-4e71-9afa-bade03015e17",
   "metadata": {},
   "outputs": [],
   "source": [
    "for entry in movementlist:\n",
    "    if entry[1]>float(100):\n",
    "        print(entry)"
   ]
  },
  {
   "cell_type": "code",
   "execution_count": null,
   "id": "4d819633-68fb-4177-a927-8b02500355cf",
   "metadata": {},
   "outputs": [
    {
     "name": "stdout",
     "output_type": "stream",
     "text": [
      "<bound method DataFrame.info of                  Open       High        Low      Close  Adj Close  Volume\n",
      "Date                                                                     \n",
      "2023-05-22  24.639999  24.660000  24.530001  24.597000  24.597000   10100\n",
      "2023-05-23  24.230000  24.340000  23.930000  23.990000  23.990000   12600\n",
      "2023-05-24  24.021000  24.049999  23.809999  24.049999  24.049999    6300\n",
      "2023-05-25  24.075001  24.400000  24.075001  24.273001  24.273001    7900\n",
      "2023-05-26  24.530001  24.850000  24.530001  24.850000  24.850000    6200>\n",
      "Up 1.4800000190734863%\n"
     ]
    },
    {
     "ename": "TypeError",
     "evalue": "'method' object is not subscriptable",
     "output_type": "error",
     "traceback": [
      "\u001b[1;31m---------------------------------------------------------------------------\u001b[0m",
      "\u001b[1;31mTypeError\u001b[0m                                 Traceback (most recent call last)",
      "Cell \u001b[1;32mIn[16], line 28\u001b[0m\n\u001b[0;32m     26\u001b[0m \u001b[39mprint\u001b[39m(a)\n\u001b[0;32m     27\u001b[0m \u001b[39mprint\u001b[39m(\u001b[39m'\u001b[39m\u001b[39mUp \u001b[39m\u001b[39m'\u001b[39m\u001b[39m+\u001b[39m \u001b[39mstr\u001b[39m(entry[\u001b[39m2\u001b[39m]) \u001b[39m+\u001b[39m \u001b[39m\"\u001b[39m\u001b[39m%\u001b[39m\u001b[39m\"\u001b[39m)\n\u001b[1;32m---> 28\u001b[0m \u001b[39mprint\u001b[39m(\u001b[39mstr\u001b[39m(a[\u001b[39m'\u001b[39;49m\u001b[39msector\u001b[39;49m\u001b[39m'\u001b[39;49m]))\n\u001b[0;32m     29\u001b[0m \u001b[39mprint\u001b[39m(\u001b[39mstr\u001b[39m(a[\u001b[39m'\u001b[39m\u001b[39mlongBusinessSummary\u001b[39m\u001b[39m'\u001b[39m]))\n\u001b[0;32m     30\u001b[0m \u001b[39mprint\u001b[39m(\u001b[39m\"\u001b[39m\u001b[39myear high \u001b[39m\u001b[39m\"\u001b[39m\u001b[39m+\u001b[39m \u001b[39mstr\u001b[39m(a[\u001b[39m'\u001b[39m\u001b[39mfiftyTwoWeekHigh\u001b[39m\u001b[39m'\u001b[39m]))\n",
      "\u001b[1;31mTypeError\u001b[0m: 'method' object is not subscriptable"
     ]
    }
   ],
   "source": [
    "# High risers:\n",
    "def lookup_stockinfo(thestock):\n",
    "    try:\n",
    "        return thestock.info\n",
    "    except IndexError:\n",
    "        return 0\n",
    "    \n",
    "cutoff=float(80)\n",
    "        \n",
    "for entry in movementlist:\n",
    "    if entry[2]>cutoff:\n",
    "        print(\"\\n\"+ str(entry))\n",
    "        thestock = yf.download(str(entry[0]))\n",
    "    if entry[0]=='HJLIW':\n",
    "            print(\"no info\")\n",
    "    else:\n",
    "        a = lookup_stockinfo(thestock)\n",
    "    if a == 0:\n",
    "        print(\"no info\")\n",
    "    else:\n",
    "        if a is None:\n",
    "            print(\"no info\")\n",
    "        else:\n",
    "            if a == \"\":\n",
    "                print(\"no\")\n",
    "            else:\n",
    "                print(a)\n",
    "                print('Up '+ str(entry[2]) + \"%\")\n",
    "                print(str(a['sector']))\n",
    "                print(str(a['longBusinessSummary']))\n",
    "                print(\"year high \"+ str(a['fiftyTwoWeekHigh']))"
   ]
  },
  {
   "cell_type": "code",
   "execution_count": null,
   "id": "434569bb-e4d2-45ab-8a4a-f170f5cfdd65",
   "metadata": {},
   "outputs": [
    {
     "ename": "ValueError",
     "evalue": "6 columns passed, passed data had 5 columns",
     "output_type": "error",
     "traceback": [
      "\u001b[1;31m---------------------------------------------------------------------------\u001b[0m",
      "\u001b[1;31mAssertionError\u001b[0m                            Traceback (most recent call last)",
      "File \u001b[1;32mc:\\Users\\Judie Baker\\anaconda3\\lib\\site-packages\\pandas\\core\\internals\\construction.py:969\u001b[0m, in \u001b[0;36m_finalize_columns_and_data\u001b[1;34m(content, columns, dtype)\u001b[0m\n\u001b[0;32m    968\u001b[0m \u001b[39mtry\u001b[39;00m:\n\u001b[1;32m--> 969\u001b[0m     columns \u001b[39m=\u001b[39m _validate_or_indexify_columns(contents, columns)\n\u001b[0;32m    970\u001b[0m \u001b[39mexcept\u001b[39;00m \u001b[39mAssertionError\u001b[39;00m \u001b[39mas\u001b[39;00m err:\n\u001b[0;32m    971\u001b[0m     \u001b[39m# GH#26429 do not raise user-facing AssertionError\u001b[39;00m\n",
      "File \u001b[1;32mc:\\Users\\Judie Baker\\anaconda3\\lib\\site-packages\\pandas\\core\\internals\\construction.py:1017\u001b[0m, in \u001b[0;36m_validate_or_indexify_columns\u001b[1;34m(content, columns)\u001b[0m\n\u001b[0;32m   1015\u001b[0m \u001b[39mif\u001b[39;00m \u001b[39mnot\u001b[39;00m is_mi_list \u001b[39mand\u001b[39;00m \u001b[39mlen\u001b[39m(columns) \u001b[39m!=\u001b[39m \u001b[39mlen\u001b[39m(content):  \u001b[39m# pragma: no cover\u001b[39;00m\n\u001b[0;32m   1016\u001b[0m     \u001b[39m# caller's responsibility to check for this...\u001b[39;00m\n\u001b[1;32m-> 1017\u001b[0m     \u001b[39mraise\u001b[39;00m \u001b[39mAssertionError\u001b[39;00m(\n\u001b[0;32m   1018\u001b[0m         \u001b[39mf\u001b[39m\u001b[39m\"\u001b[39m\u001b[39m{\u001b[39;00m\u001b[39mlen\u001b[39m(columns)\u001b[39m}\u001b[39;00m\u001b[39m columns passed, passed data had \u001b[39m\u001b[39m\"\u001b[39m\n\u001b[0;32m   1019\u001b[0m         \u001b[39mf\u001b[39m\u001b[39m\"\u001b[39m\u001b[39m{\u001b[39;00m\u001b[39mlen\u001b[39m(content)\u001b[39m}\u001b[39;00m\u001b[39m columns\u001b[39m\u001b[39m\"\u001b[39m\n\u001b[0;32m   1020\u001b[0m     )\n\u001b[0;32m   1021\u001b[0m \u001b[39melif\u001b[39;00m is_mi_list:\n\u001b[0;32m   1022\u001b[0m \n\u001b[0;32m   1023\u001b[0m     \u001b[39m# check if nested list column, length of each sub-list should be equal\u001b[39;00m\n",
      "\u001b[1;31mAssertionError\u001b[0m: 6 columns passed, passed data had 5 columns",
      "\nThe above exception was the direct cause of the following exception:\n",
      "\u001b[1;31mValueError\u001b[0m                                Traceback (most recent call last)",
      "Cell \u001b[1;32mIn[11], line 2\u001b[0m\n\u001b[0;32m      1\u001b[0m \u001b[39m# Convert the movement list into a DataFrame\u001b[39;00m\n\u001b[1;32m----> 2\u001b[0m movement \u001b[39m=\u001b[39m pd\u001b[39m.\u001b[39;49mDataFrame(movementlist, columns\u001b[39m=\u001b[39;49m[\u001b[39m'\u001b[39;49m\u001b[39mstock\u001b[39;49m\u001b[39m'\u001b[39;49m, \u001b[39m'\u001b[39;49m\u001b[39mopen\u001b[39;49m\u001b[39m'\u001b[39;49m, \u001b[39m'\u001b[39;49m\u001b[39mhigh\u001b[39;49m\u001b[39m'\u001b[39;49m, \u001b[39m'\u001b[39;49m\u001b[39mlow\u001b[39;49m\u001b[39m'\u001b[39;49m, \u001b[39m'\u001b[39;49m\u001b[39mdeltapercent\u001b[39;49m\u001b[39m'\u001b[39;49m, \u001b[39m'\u001b[39;49m\u001b[39mdeltaprice\u001b[39;49m\u001b[39m'\u001b[39;49m])\n\u001b[0;32m      3\u001b[0m movement\n",
      "File \u001b[1;32mc:\\Users\\Judie Baker\\anaconda3\\lib\\site-packages\\pandas\\core\\frame.py:746\u001b[0m, in \u001b[0;36mDataFrame.__init__\u001b[1;34m(self, data, index, columns, dtype, copy)\u001b[0m\n\u001b[0;32m    744\u001b[0m     \u001b[39mif\u001b[39;00m columns \u001b[39mis\u001b[39;00m \u001b[39mnot\u001b[39;00m \u001b[39mNone\u001b[39;00m:\n\u001b[0;32m    745\u001b[0m         columns \u001b[39m=\u001b[39m ensure_index(columns)\n\u001b[1;32m--> 746\u001b[0m     arrays, columns, index \u001b[39m=\u001b[39m nested_data_to_arrays(\n\u001b[0;32m    747\u001b[0m         \u001b[39m# error: Argument 3 to \"nested_data_to_arrays\" has incompatible\u001b[39;49;00m\n\u001b[0;32m    748\u001b[0m         \u001b[39m# type \"Optional[Collection[Any]]\"; expected \"Optional[Index]\"\u001b[39;49;00m\n\u001b[0;32m    749\u001b[0m         data,\n\u001b[0;32m    750\u001b[0m         columns,\n\u001b[0;32m    751\u001b[0m         index,  \u001b[39m# type: ignore[arg-type]\u001b[39;49;00m\n\u001b[0;32m    752\u001b[0m         dtype,\n\u001b[0;32m    753\u001b[0m     )\n\u001b[0;32m    754\u001b[0m     mgr \u001b[39m=\u001b[39m arrays_to_mgr(\n\u001b[0;32m    755\u001b[0m         arrays,\n\u001b[0;32m    756\u001b[0m         columns,\n\u001b[1;32m   (...)\u001b[0m\n\u001b[0;32m    759\u001b[0m         typ\u001b[39m=\u001b[39mmanager,\n\u001b[0;32m    760\u001b[0m     )\n\u001b[0;32m    761\u001b[0m \u001b[39melse\u001b[39;00m:\n",
      "File \u001b[1;32mc:\\Users\\Judie Baker\\anaconda3\\lib\\site-packages\\pandas\\core\\internals\\construction.py:510\u001b[0m, in \u001b[0;36mnested_data_to_arrays\u001b[1;34m(data, columns, index, dtype)\u001b[0m\n\u001b[0;32m    507\u001b[0m \u001b[39mif\u001b[39;00m is_named_tuple(data[\u001b[39m0\u001b[39m]) \u001b[39mand\u001b[39;00m columns \u001b[39mis\u001b[39;00m \u001b[39mNone\u001b[39;00m:\n\u001b[0;32m    508\u001b[0m     columns \u001b[39m=\u001b[39m ensure_index(data[\u001b[39m0\u001b[39m]\u001b[39m.\u001b[39m_fields)\n\u001b[1;32m--> 510\u001b[0m arrays, columns \u001b[39m=\u001b[39m to_arrays(data, columns, dtype\u001b[39m=\u001b[39;49mdtype)\n\u001b[0;32m    511\u001b[0m columns \u001b[39m=\u001b[39m ensure_index(columns)\n\u001b[0;32m    513\u001b[0m \u001b[39mif\u001b[39;00m index \u001b[39mis\u001b[39;00m \u001b[39mNone\u001b[39;00m:\n",
      "File \u001b[1;32mc:\\Users\\Judie Baker\\anaconda3\\lib\\site-packages\\pandas\\core\\internals\\construction.py:875\u001b[0m, in \u001b[0;36mto_arrays\u001b[1;34m(data, columns, dtype)\u001b[0m\n\u001b[0;32m    872\u001b[0m     data \u001b[39m=\u001b[39m [\u001b[39mtuple\u001b[39m(x) \u001b[39mfor\u001b[39;00m x \u001b[39min\u001b[39;00m data]\n\u001b[0;32m    873\u001b[0m     arr \u001b[39m=\u001b[39m _list_to_arrays(data)\n\u001b[1;32m--> 875\u001b[0m content, columns \u001b[39m=\u001b[39m _finalize_columns_and_data(arr, columns, dtype)\n\u001b[0;32m    876\u001b[0m \u001b[39mreturn\u001b[39;00m content, columns\n",
      "File \u001b[1;32mc:\\Users\\Judie Baker\\anaconda3\\lib\\site-packages\\pandas\\core\\internals\\construction.py:972\u001b[0m, in \u001b[0;36m_finalize_columns_and_data\u001b[1;34m(content, columns, dtype)\u001b[0m\n\u001b[0;32m    969\u001b[0m     columns \u001b[39m=\u001b[39m _validate_or_indexify_columns(contents, columns)\n\u001b[0;32m    970\u001b[0m \u001b[39mexcept\u001b[39;00m \u001b[39mAssertionError\u001b[39;00m \u001b[39mas\u001b[39;00m err:\n\u001b[0;32m    971\u001b[0m     \u001b[39m# GH#26429 do not raise user-facing AssertionError\u001b[39;00m\n\u001b[1;32m--> 972\u001b[0m     \u001b[39mraise\u001b[39;00m \u001b[39mValueError\u001b[39;00m(err) \u001b[39mfrom\u001b[39;00m \u001b[39merr\u001b[39;00m\n\u001b[0;32m    974\u001b[0m \u001b[39mif\u001b[39;00m \u001b[39mlen\u001b[39m(contents) \u001b[39mand\u001b[39;00m contents[\u001b[39m0\u001b[39m]\u001b[39m.\u001b[39mdtype \u001b[39m==\u001b[39m np\u001b[39m.\u001b[39mobject_:\n\u001b[0;32m    975\u001b[0m     contents \u001b[39m=\u001b[39m _convert_object_array(contents, dtype\u001b[39m=\u001b[39mdtype)\n",
      "\u001b[1;31mValueError\u001b[0m: 6 columns passed, passed data had 5 columns"
     ]
    }
   ],
   "source": [
    "# Convert the movement list into a DataFrame\n",
    "movement = pd.DataFrame(movementlist, columns=['stock', 'high', 'low', 'deltapercent', 'deltaprice'])\n",
    "movement"
   ]
  },
  {
   "cell_type": "code",
   "execution_count": null,
   "id": "c1f27e61-de16-4d4e-9046-f1aeac45fa69",
   "metadata": {},
   "outputs": [
    {
     "ename": "",
     "evalue": "",
     "output_type": "error",
     "traceback": [
      "\u001b[1;31mRunning cells with 'c:\\Users\\Judie Baker\\anaconda3\\python.exe' requires the ipykernel package.\n",
      "\u001b[1;31mRun the following command to install 'ipykernel' into the Python environment. \n",
      "\u001b[1;31mCommand: 'conda install -p c:\\Users\\Judie Baker\\anaconda3 ipykernel --update-deps --force-reinstall'"
     ]
    }
   ],
   "source": [
    "# creating a csv file of the DataFrame\n",
    "# movement.to_csv('latest_movement.csv', header=True, index=True, encoding='utf-8')"
   ]
  }
 ],
 "metadata": {
  "kernelspec": {
   "display_name": "Python 3",
   "language": "python",
   "name": "python3"
  },
  "language_info": {
   "codemirror_mode": {
    "name": "ipython",
    "version": 3
   },
   "file_extension": ".py",
   "mimetype": "text/x-python",
   "name": "python",
   "nbconvert_exporter": "python",
   "pygments_lexer": "ipython3",
   "version": "3.11.5"
  }
 },
 "nbformat": 4,
 "nbformat_minor": 5
}
